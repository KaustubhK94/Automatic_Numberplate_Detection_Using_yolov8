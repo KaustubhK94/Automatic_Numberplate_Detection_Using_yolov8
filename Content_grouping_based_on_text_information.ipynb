{
  "nbformat": 4,
  "nbformat_minor": 0,
  "metadata": {
    "colab": {
      "provenance": [],
      "authorship_tag": "ABX9TyOJvanZzifHRJkNHYxhN4Nm",
      "include_colab_link": true
    },
    "kernelspec": {
      "name": "python3",
      "display_name": "Python 3"
    },
    "language_info": {
      "name": "python"
    }
  },
  "cells": [
    {
      "cell_type": "markdown",
      "metadata": {
        "id": "view-in-github",
        "colab_type": "text"
      },
      "source": [
        "<a href=\"https://colab.research.google.com/github/KaustubhK94/Automatic_Numberplate_Detection_Using_yolov8/blob/main/Content_grouping_based_on_text_information.ipynb\" target=\"_parent\"><img src=\"https://colab.research.google.com/assets/colab-badge.svg\" alt=\"Open In Colab\"/></a>"
      ]
    },
    {
      "cell_type": "code",
      "source": [
        "!pip install langchain\n",
        "!pip install pdfminer.six"
      ],
      "metadata": {
        "id": "_8ty-ooiOG9R"
      },
      "execution_count": null,
      "outputs": []
    },
    {
      "cell_type": "code",
      "source": [
        "from google.colab import drive\n",
        "drive.mount('/content/drive', force_remount=True)"
      ],
      "metadata": {
        "id": "CbL99SvqOILA"
      },
      "execution_count": null,
      "outputs": []
    },
    {
      "cell_type": "code",
      "execution_count": null,
      "metadata": {
        "id": "uxITfrkONuml"
      },
      "outputs": [],
      "source": [
        "# Import necessary libraries\n",
        "from bs4 import BeautifulSoup\n",
        "import re\n",
        "from langchain.document_loaders import PDFMinerPDFasHTMLLoader\n",
        "\n",
        "# Load the PDF file using PDFMinerPDFasHTMLLoader\n",
        "pdf_path = input(\"Enter the path of the PDF file: \")\n",
        "loader = PDFMinerPDFasHTMLLoader(pdf_path)\n",
        "data = loader.load()[0]   # entire PDF is loaded as a single Document\n",
        "\n",
        "# Function to extract font information from a span\n",
        "def extract_font_info(span):\n",
        "    style = span.get('style')\n",
        "    if not style:\n",
        "        return None\n",
        "\n",
        "    # Extract font-related styles from the CSS style.\n",
        "    font_family = re.findall(r'font-family:(.*?);', style)\n",
        "    font_size = re.findall(r'font-size:(.*?);', style)\n",
        "\n",
        "    return {'font-family': font_family[0].strip(), 'font-size': font_size[0].strip()} if font_family and font_size else None\n",
        "\n",
        "# Assuming content is a single string containing HTML content of all pages\n",
        "soup = BeautifulSoup(data.page_content, 'html.parser')\n",
        "\n",
        "# Find all span elements in the HTML\n",
        "spans = soup.find_all('span')\n",
        "\n",
        "# Initialize variables to keep track of the current font style, the current text being accumulated, and a list to store snippets.\n",
        "cur_font_info = None\n",
        "cur_text = ''\n",
        "snippets = []   # Collect all snippets with font information\n",
        "\n",
        "# Get user input for the page number\n",
        "page_number = int(input(\"Enter the page number: \"))\n",
        "\n",
        "# Validate the page number\n",
        "if 0 <= page_number < len(data.page_content):\n",
        "    # Loop through all spans\n",
        "    for sp in spans:\n",
        "        # Check if the current element has the same font as the previous one. If yes, accumulate the text.\n",
        "        font_info = extract_font_info(sp)\n",
        "        if font_info == cur_font_info:\n",
        "            cur_text += sp.get_text()\n",
        "        else:\n",
        "            # If not, store the current snippet and reset variables for the new font style.\n",
        "            snippets.append((cur_text, cur_font_info))\n",
        "            cur_font_info = font_info\n",
        "            cur_text = sp.get_text()\n",
        "\n",
        "    # Add the last accumulated snippet to the list\n",
        "    snippets.append((cur_text, cur_font_info))\n",
        "\n",
        "    # Now, 'snippets' contains grouped text content with font information across all pages\n",
        "    semantic_snippets = snippets\n",
        "\n",
        "    # Get user input for the output file path\n",
        "    output_file_path = input(\"Enter the output file path (including the file name with .txt extension): \")\n",
        "\n",
        "    # Write the snippets to the output file\n",
        "    with open(output_file_path, 'w') as output_file:\n",
        "        for snippet, font_info in semantic_snippets:\n",
        "            if font_info:\n",
        "                output_file.write(f'<style font-family=\"{font_info[\"font-family\"]}\" font-size=\"{font_info[\"font-size\"]}\">\\n')\n",
        "            output_file.write(f'\\t{snippet}\\n')\n",
        "            if font_info:\n",
        "                output_file.write('</style>\\n\\n' + \"=\" * 50 + \"\\n\\n\")\n",
        "\n",
        "    print(f\"Data has been written to {output_file_path}\")\n",
        "else:\n",
        "    print(f\"Page {page_number} is out of range.\")\n"
      ]
    }
  ]
}